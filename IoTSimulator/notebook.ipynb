{
 "cells": [
  {
   "cell_type": "markdown",
   "metadata": {},
   "source": [
    "## Section 1: Import Libraries"
   ]
  },
  {
   "cell_type": "code",
   "execution_count": 10,
   "metadata": {},
   "outputs": [],
   "source": [
    "# Importing necessary libraries\n",
    "import numpy as np\n",
    "import random\n"
   ]
  },
  {
   "cell_type": "markdown",
   "metadata": {},
   "source": [
    "## Section 2: Class Definitions"
   ]
  },
  {
   "cell_type": "code",
   "execution_count": 11,
   "metadata": {},
   "outputs": [],
   "source": [
    "# Class for defining a Microservice\n",
    "class Microservice:\n",
    "    def __init__(self, name, function, cpu_req, ram_req, server_preference, latency_sensitivity, bandwidth_requirement):\n",
    "        self.name = name\n",
    "        self.function = function\n",
    "        self.cpu_req = cpu_req\n",
    "        self.ram_req = ram_req\n",
    "        self.server_preference = server_preference\n",
    "        self.latency_sensitivity = latency_sensitivity\n",
    "        self.bandwidth_requirement = bandwidth_requirement\n",
    "\n",
    "# Class for defining a Server\n",
    "class Server:\n",
    "    def __init__(self, name, cpu, ram, storage, bandwidth, latency):\n",
    "        self.name = name\n",
    "        self.cpu = cpu\n",
    "        self.ram = ram\n",
    "        self.storage = storage\n",
    "        self.bandwidth = bandwidth\n",
    "        self.latency = latency\n"
   ]
  },
  {
   "cell_type": "markdown",
   "metadata": {},
   "source": [
    "## Section 3: Cost Calculation"
   ]
  },
  {
   "cell_type": "code",
   "execution_count": 12,
   "metadata": {},
   "outputs": [],
   "source": [
    "# Function to calculate the cost of running a microservice on a server\n",
    "def calculate_cost(server, microservice):\n",
    "    cpu_cost = server.cpu - microservice.cpu_req\n",
    "    ram_cost = server.ram - microservice.ram_req\n",
    "    return cpu_cost + ram_cost\n",
    "\n",
    "# Test function for Cost Calculation\n",
    "def test_calculate_cost():\n",
    "    server = Server(\"AWS-EC2\", 4, 8, 100, 10, 5)  \n",
    "    ms1 = Microservice(\"Traffic Data Processing\", \"Traffic Monitoring\", 2, 4, \"AWS-EC2\", True, 100)\n",
    "    print(\"Calculated Cost:\", calculate_cost(server, ms1))  # Output should be 6\n",
    "\n",
    "# Sample Output: Calculated Cost: 6\n"
   ]
  },
  {
   "cell_type": "markdown",
   "metadata": {},
   "source": [
    "## Section 4: Server Selection"
   ]
  },
  {
   "cell_type": "code",
   "execution_count": 13,
   "metadata": {},
   "outputs": [],
   "source": [
    "# Function to select the best server for a given microservice\n",
    "def select_server(microservices, servers):\n",
    "    selected_servers = []\n",
    "    for ms in microservices:\n",
    "        best_server = min(servers, key=lambda server: calculate_cost(server, ms))\n",
    "        selected_servers.append(best_server)\n",
    "    return selected_servers\n",
    "\n",
    "# Test function for Server Selection\n",
    "def test_select_server():\n",
    "    servers = [Server(\"AWS-EC2\", 4, 8, 100, 10, 5), Server(\"Azure\", 3, 7, 80, 9, 4)]\n",
    "    microservices = [Microservice(\"Traffic Monitoring\", \"Monitoring\", 1, 2, \"AWS-EC2\", True, 100)]\n",
    "    selected = select_server(microservices, servers)\n",
    "    print(\"Selected Server:\", selected[0].name)  # Output should be \"AWS-EC2\"\n",
    "\n",
    "# Sample Output: Selected Server: AWS-EC2\n"
   ]
  },
  {
   "cell_type": "markdown",
   "metadata": {},
   "source": [
    "## Section 5: Bandwidth Calculation"
   ]
  },
  {
   "cell_type": "code",
   "execution_count": 14,
   "metadata": {},
   "outputs": [],
   "source": [
    "# Function to calculate the bandwidth between servers and microservices\n",
    "def calculate_bandwidth(server, microservice):\n",
    "    return server.bandwidth - microservice.bandwidth_requirement\n",
    "\n",
    "# Test function for Bandwidth Calculation\n",
    "def test_calculate_bandwidth():\n",
    "    server = Server(\"AWS-EC2\", 4, 8, 100, 10, 5)\n",
    "    ms1 = Microservice(\"Traffic Monitoring\", \"Monitoring\", 1, 2, \"AWS-EC2\", True, 5)\n",
    "    print(\"Remaining Bandwidth:\", calculate_bandwidth(server, ms1))  # Output should be 5\n",
    "\n",
    "# Sample Output: Remaining Bandwidth: 5\n"
   ]
  },
  {
   "cell_type": "markdown",
   "metadata": {},
   "source": [
    "## Section 6: Page Rank Algorithm"
   ]
  },
  {
   "cell_type": "code",
   "execution_count": 15,
   "metadata": {},
   "outputs": [],
   "source": [
    "# Page Rank Algorithm\n",
    "def page_rank(servers, microservices):\n",
    "    rank = {}\n",
    "    for server in servers:\n",
    "        rank[server.name] = 1.0\n",
    "    \n",
    "    for i in range(10):  # 10 iterations\n",
    "        for server in servers:\n",
    "            rank_sum = sum([rank[other_server.name] for other_server in servers if other_server != server])\n",
    "            rank[server.name] = 0.15 + 0.85 * rank_sum\n",
    "    \n",
    "    return rank\n",
    "\n",
    "# Test function for Page Rank Algorithm\n",
    "def test_page_rank():\n",
    "    servers = [Server(\"AWS-EC2\", 4, 8, 100, 10, 5), Server(\"Azure\", 3, 7, 80, 9, 4)]\n",
    "    microservices = [Microservice(\"Traffic Monitoring\", \"Monitoring\", 1, 2, \"AWS-EC2\", True, 100)]\n",
    "    rank = page_rank(servers, microservices)\n",
    "    print(f\"Page Rank Result: {rank}\")  # Output should show page ranks for each server\n"
   ]
  },
  {
   "cell_type": "markdown",
   "metadata": {},
   "source": [
    "## Section 7: Complete Simulation Runner\n"
   ]
  },
  {
   "cell_type": "code",
   "execution_count": 16,
   "metadata": {},
   "outputs": [
    {
     "name": "stdout",
     "output_type": "stream",
     "text": [
      "Calculated Cost: 6\n",
      "Selected Server: Azure\n",
      "Remaining Bandwidth: 5\n",
      "Page Rank Result: {'AWS-EC2': 1.0, 'Azure': 1.0}\n"
     ]
    }
   ],
   "source": [
    "def run_simulation():\n",
    "    test_calculate_cost()\n",
    "    test_select_server()\n",
    "    test_calculate_bandwidth()\n",
    "    test_page_rank()\n",
    "    \n",
    "# Execute complete simulation\n",
    "run_simulation()\n"
   ]
  }
 ],
 "metadata": {
  "kernelspec": {
   "display_name": "Python 3",
   "language": "python",
   "name": "python3"
  },
  "language_info": {
   "codemirror_mode": {
    "name": "ipython",
    "version": 3
   },
   "file_extension": ".py",
   "mimetype": "text/x-python",
   "name": "python",
   "nbconvert_exporter": "python",
   "pygments_lexer": "ipython3",
   "version": "3.11.2"
  },
  "orig_nbformat": 4
 },
 "nbformat": 4,
 "nbformat_minor": 2
}
