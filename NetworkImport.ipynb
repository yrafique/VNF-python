{
 "cells": [
  {
   "cell_type": "code",
   "execution_count": 53,
   "metadata": {},
   "outputs": [],
   "source": [
    "import sys\n",
    "import xml.dom.minidom as dom \n",
    "import string\n",
    "from xml.dom import minidom\n",
    "from xml.dom.minidom import parse\n",
    "import os\n",
    "\n",
    "from pprint import pprint # to print element properties\n",
    "\n",
    "#Read XML file\n",
    "#network_name = \"janos-us.xml\"\n",
    "\n",
    "\n",
    "#Create a Node class\n",
    "class Node:\n",
    "    def __init__(self,uid,x,y):\n",
    "        self.uid=uid\n",
    "        self.x=x\n",
    "        self.y=y\n",
    "        self.linklist=[]\n",
    "        self.demandlist=[]\n",
    "\n",
    "#Create a Link class\n",
    "class Link:\n",
    "    def __init__(self,uid,source,target,capacity,cost):\n",
    "        self.uid=uid\n",
    "        self.source=source\n",
    "        self.target=target\n",
    "        self.capacity=capacity\n",
    "        self.cost = cost\n",
    "\n",
    "#Create a Demand class\n",
    "class Demand:\n",
    "    def __init__(self,uid,source,destination,demandValue):\n",
    "        self.uid=uid\n",
    "        self.source=source\n",
    "        self.destination=destination\n",
    "        self.demandValue=demandValue\n",
    "\n",
    "\n"
   ]
  },
  {
   "cell_type": "code",
   "execution_count": 54,
   "metadata": {},
   "outputs": [],
   "source": [
    "#Read Nodes from XML\n",
    "def read_nodes(nodelist) -> dict:\n",
    "    nodes = {} #creates empty nodes dictionary\n",
    "    count_nodes = 0\n",
    "    for node in nodelist :\n",
    "        cur_node = {} #create temp node dictionary\n",
    "        if node.hasAttribute(\"id\"):\n",
    "            Nodeid = node.getAttribute(\"id\")\n",
    "        x_cor = node.getElementsByTagName('x') [0] #Get dom object from XML\n",
    "        x_cor = float(x_cor.childNodes[0].data) #Convert object to float\n",
    "        y_cor = node.getElementsByTagName('y') [0] #Get dom object from XML\n",
    "        y_cor = float(y_cor.childNodes[0].data) #Convert object to float\n",
    "        cur_node = { 'id':Nodeid, 'x_cor':x_cor, 'y_cor':y_cor} #save into temp dict\n",
    "        count_nodes +=1 #move to next node\n",
    "        nodes[count_nodes] = cur_node #insert temp dict into nodes dict\n",
    "    #print(nodes.keys()) #Print Level1 Dictionary Indexs\n",
    "    #print(nodes) #Print Level1&2 Dictionary Values\n",
    "    return nodes"
   ]
  },
  {
   "cell_type": "code",
   "execution_count": 55,
   "metadata": {},
   "outputs": [],
   "source": [
    "#Read Links from XML\n",
    "def read_links(linklist) -> dict:\n",
    "    links = {}\n",
    "    count_links = 0\n",
    "    for link in linklist :\n",
    "        cur_link = {} #create temp link dictionary\n",
    "        if link.hasAttribute(\"id\"):\n",
    "            Linkid = link.getAttribute(\"id\")\n",
    "        Source = (link.getElementsByTagName('source') [0]).childNodes[0].data #Get dom object from XML\n",
    "        Destination = (link.getElementsByTagName('target') [0]).childNodes[0].data\n",
    "        Capacity = float((link.getElementsByTagName('capacity') [0]).childNodes[0].data)\n",
    "        Cost = float((link.getElementsByTagName('cost') [0]).childNodes[0].data)\n",
    "        cur_link = { 'source':Source, 'destination':Destination, 'capacity':Capacity, 'cost':Cost} #save into temp dict\n",
    "        count_links +=1\n",
    "        links[count_links] = cur_link\n",
    "    #print(links.keys())\n",
    "    #print(links)\n",
    "    return links"
   ]
  },
  {
   "cell_type": "code",
   "execution_count": 56,
   "metadata": {},
   "outputs": [],
   "source": [
    "#Read Demands from XML\n",
    "def read_demands(demandlist)-> dict:\n",
    "    demands = {}\n",
    "    count_demands = 0\n",
    "    for demand in demandlist :\n",
    "        cur_demand = {} #create temp link dictionary\n",
    "        if demand.hasAttribute(\"id\"):\n",
    "            Demandid = demand.getAttribute(\"id\")\n",
    "        Source = (demand.getElementsByTagName('source') [0]).childNodes[0].data #Get dom object from XML\n",
    "        Destination = (demand.getElementsByTagName('target') [0]).childNodes[0].data\n",
    "        Demandval = float((demand.getElementsByTagName('demandValue') [0]).childNodes[0].data)\n",
    "        cur_demand = { 'source':Source, 'destination':Destination, 'demandValue':Demandval} #save into temp dict\n",
    "        count_demands +=1\n",
    "        demands[count_demands] = cur_demand\n",
    "    return demands\n"
   ]
  },
  {
   "cell_type": "code",
   "execution_count": 57,
   "metadata": {},
   "outputs": [],
   "source": [
    "#Function that will be called to read networks from other files\n",
    "def read_network(filename: str) -> dict:\n",
    "    Read_Data = minidom.parse(filename)\n",
    "    nodelist = Read_Data.getElementsByTagName(\"node\")\n",
    "    nodes = read_nodes(nodelist)\n",
    "\n",
    "    linklist = Read_Data.getElementsByTagName(\"link\")\n",
    "    links = read_links(linklist)\n",
    "\n",
    "    demandlist = Read_Data.getElementsByTagName(\"demand\")\n",
    "    demands = read_demands(demandlist)\n",
    "\n",
    "    c = nodes, links, demands\n",
    "\n",
    "    return c"
   ]
  },
  {
   "cell_type": "code",
   "execution_count": 58,
   "metadata": {},
   "outputs": [],
   "source": [
    "#Print Read File\n",
    "\n",
    "#Testing Nodes\n",
    "def print_test(network_name: str, nodes: dict, links: dict, demands: dict ):\n",
    "    print('\\n\\nNetwork Name: ' + network_name)\n",
    "\n",
    "    print('\\n**** Nodes read: ******\\n')\n",
    "    for node in nodes:\n",
    "        s = 'Node # \\t' + str(node) + ': \\t' + (nodes.get(node).get(\"id\")).ljust(20) + '\\tx: ' + str(nodes.get(node).get(\"x_cor\")) + ', \\ty: '+ str(nodes.get(node).get(\"y_cor\")) \n",
    "        #s = 'Node # \\t' + str(node) + ': \\t' + nodes.get(node).get(\"id\") + '\\tx: ' + str(nodes.get(node).get(\"x_cor\")) + ', \\ty: '+ str(nodes.get(node).get(\"y_cor\")) \n",
    "        print(s)\n",
    "\n",
    "    print('\\n**** Links read: ******\\n')\n",
    "    for link in links:\n",
    "        s = 'Link # \\t' + str(link) + ', From: ' + (links.get(link).get(\"source\")).ljust(15) + ', To: '+ (links.get(link).get(\"destination\")).ljust(15)+ \",\\t Capacity: \" + str(links.get(link).get(\"capacity\")) + \", \\tCost: \" + str(links.get(link).get(\"cost\"))\n",
    "        print(s)"
   ]
  },
  {
   "cell_type": "markdown",
   "metadata": {},
   "source": [
    "Network X Code goes here, now we convert it into a graph"
   ]
  },
  {
   "cell_type": "code",
   "execution_count": 59,
   "metadata": {},
   "outputs": [
    {
     "name": "stdout",
     "output_type": "stream",
     "text": [
      "['Seattle', 'SanFrancisco', 'LosAngeles', 'ElPaso', 'Houston', 'NewOrleans', 'Miami']\n",
      "Graph with 26 nodes and 42 edges\n"
     ]
    },
    {
     "name": "stderr",
     "output_type": "stream",
     "text": [
      "/var/folders/6y/vllmdlcj6x5fd8zhcmbh_v4w0000gn/T/ipykernel_5406/2128643695.py:60: DeprecationWarning: info is deprecated and will be removed in version 3.0.\n",
      "\n",
      "  print(nx.info(G))\n"
     ]
    },
    {
     "name": "stdout",
     "output_type": "stream",
     "text": [
      "1.19 ms ± 145 µs per loop (mean ± std. dev. of 7 runs, 1,000 loops each)\n"
     ]
    },
    {
     "data": {
      "image/png": "[encoded data removed]",
      "text/plain": [
       "<Figure size 640x480 with 1 Axes>"
      ]
     },
     "metadata": {},
     "output_type": "display_data"
    }
   ],
   "source": [
    "\n",
    "\n",
    "#Building a Network with Network\n",
    "\n",
    "#1. Convert XML Network Dictionary into a networkx graph\n",
    "#2. Create a 3 server, linked network and run shortest path\n",
    "#3. Implement Random Placement Algorithm\n",
    "\n",
    "import networkx as nx\n",
    "\n",
    "import matplotlib.pyplot as plt\n",
    "\n",
    "from ImportNetworkFromXML import *\n",
    "\n",
    "G = nx.Graph()\n",
    "\n",
    "\n",
    "options = ['abilene.xml' , 'janos-us.xml', 'brain.xml']\n",
    "\n",
    "network_name = options[1]\n",
    "from_xml = read_network(network_name)\n",
    "\n",
    "nodes = from_xml[0]\n",
    "links = from_xml[1]\n",
    "demands = from_xml[2]\n",
    "\n",
    "#Test the imported networks\n",
    "#print_test(network_name,nodes,links,demands)\n",
    "\n",
    "\n",
    "\n",
    "for node in nodes:\n",
    "    node_id = nodes[node].get(\"id\")\n",
    "    x_cor = nodes[node].get(\"x_cor\")\n",
    "    y_cor = nodes[node].get(\"y_cor\")\n",
    "    G.add_node(node_id, pos=(x_cor, y_cor))\n",
    "\n",
    "\n",
    "for link in links.keys():\n",
    "    source = links[link].get(\"source\")\n",
    "    for source_node in nodes:\n",
    "        if nodes[source_node].get('id') == source:\n",
    "            break\n",
    "    dest = links[link].get(\"destination\")\n",
    "    for dest_node in nodes:\n",
    "        if nodes[dest_node].get('id') == dest:\n",
    "            break\n",
    "    capacity = links[link].get(\"capacity\")\n",
    "    cost = links[link].get(\"cost\")\n",
    "    G.add_edges_from([(source, dest, {'capacity': capacity, 'cost': cost})])\n",
    "\n",
    "\n",
    "nx.draw(G, nx.get_node_attributes(G, 'pos'), with_labels=True, node_size=0)\n",
    "print(nx.dijkstra_path(G,'Seattle', 'Miami'))\n",
    "\n",
    "# final all shortest path pairs\n",
    "sp = dict(nx.all_pairs_shortest_path(G))\n",
    "#print(sp)\n",
    "\n",
    "\n",
    "#print network info\n",
    "print(nx.info(G))\n",
    "\n",
    "%timeit nx.closeness_centrality(G)\n"
   ]
  },
  {
   "cell_type": "markdown",
   "metadata": {},
   "source": [
    "# Network statistics\n",
    "There are many useful functions to calculate network stats for you.\n",
    "\n",
    "## Global level stats\n",
    "1. Density\n",
    "2. Avg. shortest path length\n",
    "3. Avg. clustering coefficient\n",
    "4. Assortativity"
   ]
  },
  {
   "cell_type": "code",
   "execution_count": 60,
   "metadata": {},
   "outputs": [
    {
     "name": "stdout",
     "output_type": "stream",
     "text": [
      "Density: 0.12923076923076923\n",
      "Avg. shortest path length: 3.3076923076923075\n",
      "Avg. clustering coefficient: 0.30512820512820504\n",
      "Assortativity -0.1073446327683659\n"
     ]
    }
   ],
   "source": [
    "#Print network stats\n",
    "print('Density:', nx.density(G))\n",
    "\n",
    "print('Avg. shortest path length:', nx.average_shortest_path_length(G))\n",
    "\n",
    "print('Avg. clustering coefficient:', nx.average_clustering(G))\n",
    "\n",
    "print('Assortativity', nx.degree_assortativity_coefficient(G))"
   ]
  },
  {
   "cell_type": "code",
   "execution_count": 61,
   "metadata": {},
   "outputs": [
    {
     "name": "stdout",
     "output_type": "stream",
     "text": [
      "26\n",
      "0.12444444444444444\n",
      "Erdos-Renyi assortativity: -0.0379165614265861 0.18660436058112845\n",
      "Conf. model assortativity: -0.039458151005205305 0.10566714746293274\n",
      "Real network value: -0.1073446327683659\n"
     ]
    }
   ],
   "source": [
    "import numpy as np\n",
    "import pandas as pd\n",
    "\n",
    "erdos_assortativity_list = list()\n",
    "conf_assortativity_list = list()\n",
    "\n",
    "n = G.number_of_nodes() # number of nodes\n",
    "p = 2.*G.number_of_edges()/(n*n-1) # probability of edge creation\n",
    "print (n)\n",
    "print(p)\n",
    "\n",
    "degree_dist = np.asarray(list(dict(G.degree()).values()))\n",
    "degree_dist\n",
    "\n",
    "for i in range(100): # randomly sample random graphs 100 times\n",
    "    erdos_rg = nx.erdos_renyi_graph(n, p, seed=np.random.randint(10))\n",
    "    conf_rg = nx.Graph(nx.configuration_model(degree_dist, seed=np.random.randint(10))) # convert `MultiGraph` to `Graph`\n",
    "    # calculate assortativity\n",
    "    erdos_assortativity_list.append(nx.degree_assortativity_coefficient(erdos_rg))\n",
    "    conf_assortativity_list.append(nx.degree_assortativity_coefficient(conf_rg))\n",
    "\n",
    "print('Erdos-Renyi assortativity:', np.mean(erdos_assortativity_list), np.std(erdos_assortativity_list, ddof=1))\n",
    "print('Conf. model assortativity:', np.mean(conf_assortativity_list), np.std(conf_assortativity_list, ddof=1))\n",
    "print('Real network value:', nx.degree_assortativity_coefficient(G))\n",
    "\n",
    "#Now you see that there's a much higher tendency of the low degree nodes (mostly members) in ___karate club network___ to connect \n",
    "# with high degree nodes (mostly leaders). We can then interpret that there may be a core-periphery or leader-member structure. \n",
    "# (We cannot be sure about this from this very simple approach though!)"
   ]
  },
  {
   "cell_type": "markdown",
   "metadata": {},
   "source": [
    "# Page Rank Algorithm\n",
    "Ranking nodes based on various strategies is a common thing in measuring node importance. PageRank is one of the most successful one and has still been used in both the industry and academia. Usually, PageRank is applied in a directed network, where an edge has a direction. For example, webpage A has a link to webpage B but not the other way around. Therefore in the network of WWW, we only have A → B but NOT B → A.\n",
    "\n",
    "## Reference:\n",
    "Page, Lawrence and Brin, Sergey and Motwani, Rajeev and Winograd, Terry (1999) The PageRank Citation Ranking: Bringing Order to the Web. Technical Report. Stanford InfoLab.\n",
    "\n",
    "## Build network\n",
    "Network data from http://tuvalu.santafe.edu/~aaronc/datacode.htm"
   ]
  },
  {
   "cell_type": "code",
   "execution_count": 65,
   "metadata": {},
   "outputs": [
    {
     "data": {
      "text/html": [
       "<div>\n",
       "<style scoped>\n",
       "    .dataframe tbody tr th:only-of-type {\n",
       "        vertical-align: middle;\n",
       "    }\n",
       "\n",
       "    .dataframe tbody tr th {\n",
       "        vertical-align: top;\n",
       "    }\n",
       "\n",
       "    .dataframe thead th {\n",
       "        text-align: right;\n",
       "    }\n",
       "</style>\n",
       "<table border=\"1\" class=\"dataframe\">\n",
       "  <thead>\n",
       "    <tr style=\"text-align: right;\">\n",
       "      <th></th>\n",
       "      <th>name</th>\n",
       "      <th>value</th>\n",
       "    </tr>\n",
       "  </thead>\n",
       "  <tbody>\n",
       "    <tr>\n",
       "      <th>6</th>\n",
       "      <td>Dallas</td>\n",
       "      <td>0.054326</td>\n",
       "    </tr>\n",
       "    <tr>\n",
       "      <th>17</th>\n",
       "      <td>Cleveland</td>\n",
       "      <td>0.047761</td>\n",
       "    </tr>\n",
       "    <tr>\n",
       "      <th>4</th>\n",
       "      <td>SaltLakeCity</td>\n",
       "      <td>0.047580</td>\n",
       "    </tr>\n",
       "    <tr>\n",
       "      <th>23</th>\n",
       "      <td>Atlanta</td>\n",
       "      <td>0.046916</td>\n",
       "    </tr>\n",
       "    <tr>\n",
       "      <th>12</th>\n",
       "      <td>Chicago</td>\n",
       "      <td>0.046435</td>\n",
       "    </tr>\n",
       "    <tr>\n",
       "      <th>10</th>\n",
       "      <td>KansasCity</td>\n",
       "      <td>0.045498</td>\n",
       "    </tr>\n",
       "    <tr>\n",
       "      <th>5</th>\n",
       "      <td>ElPaso</td>\n",
       "      <td>0.045289</td>\n",
       "    </tr>\n",
       "    <tr>\n",
       "      <th>13</th>\n",
       "      <td>Indianapolis</td>\n",
       "      <td>0.044716</td>\n",
       "    </tr>\n",
       "    <tr>\n",
       "      <th>16</th>\n",
       "      <td>Nashville</td>\n",
       "      <td>0.044602</td>\n",
       "    </tr>\n",
       "    <tr>\n",
       "      <th>15</th>\n",
       "      <td>StLouis</td>\n",
       "      <td>0.044476</td>\n",
       "    </tr>\n",
       "  </tbody>\n",
       "</table>\n",
       "</div>"
      ],
      "text/plain": [
       "            name     value\n",
       "6         Dallas  0.054326\n",
       "17     Cleveland  0.047761\n",
       "4   SaltLakeCity  0.047580\n",
       "23       Atlanta  0.046916\n",
       "12       Chicago  0.046435\n",
       "10    KansasCity  0.045498\n",
       "5         ElPaso  0.045289\n",
       "13  Indianapolis  0.044716\n",
       "16     Nashville  0.044602\n",
       "15       StLouis  0.044476"
      ]
     },
     "execution_count": 65,
     "metadata": {},
     "output_type": "execute_result"
    }
   ],
   "source": [
    "pr = nx.pagerank(G, alpha=0.85)\n",
    "\n",
    "pr_df = pd.DataFrame([{'name': k, 'value': v} for k, v in pr.items()])\n",
    "pr_df.head()\n",
    "pr_df.sort_values('value', ascending=False).head(10)"
   ]
  },
  {
   "cell_type": "markdown",
   "metadata": {},
   "source": [
    "# Approximations and Heuristics\n",
    "Approximations of graph properties and Heuristic methods for optimization.\n",
    "\n",
    "# import\n",
    "These functions can be accessed using networkx.approximation.function_name\n",
    "\n",
    "They can be imported using from networkx.algorithms import approximation or from networkx.algorithms.approximation import function_name\n",
    "\n",
    "# Treewidth\n",
    "Functions for computing treewidth decomposition.\n",
    "\n",
    "Treewidth of an undirected graph is a number associated with the graph. It can be defined as the size of the largest vertex set (bag) in a tree decomposition of the graph minus one.\n",
    "\n",
    "Wikipedia: Treewidth\n",
    "\n",
    "treewidth_min_degree(G): Returns a treewidth decomposition using the Minimum Degree heuristic."
   ]
  },
  {
   "cell_type": "code",
   "execution_count": 66,
   "metadata": {},
   "outputs": [
    {
     "data": {
      "text/plain": [
       "(4, <networkx.classes.graph.Graph at 0x11561a5c0>)"
      ]
     },
     "execution_count": 66,
     "metadata": {},
     "output_type": "execute_result"
    }
   ],
   "source": [
    "from networkx.algorithms import approximation as algos\n",
    "algos.treewidth_min_degree(G)"
   ]
  }
 ],
 "metadata": {
  "kernelspec": {
   "display_name": "Python 3.10.7 64-bit",
   "language": "python",
   "name": "python3"
  },
  "language_info": {
   "codemirror_mode": {
    "name": "ipython",
    "version": 3
   },
   "file_extension": ".py",
   "mimetype": "text/x-python",
   "name": "python",
   "nbconvert_exporter": "python",
   "pygments_lexer": "ipython3",
   "version": "3.10.7"
  },
  "orig_nbformat": 4,
  "vscode": {
   "interpreter": {
    "hash": "aee8b7b246df8f9039afb4144a1f6fd8d2ca17a180786b69acc140d282b71a49"
   }
  }
 },
 "nbformat": 4,
 "nbformat_minor": 2
}
