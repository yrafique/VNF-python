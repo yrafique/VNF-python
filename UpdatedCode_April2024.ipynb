{
 "cells": [
  {
   "cell_type": "code",
   "execution_count": 1,
   "metadata": {},
   "outputs": [
    {
     "ename": "NameError",
     "evalue": "name 'Network' is not defined",
     "output_type": "error",
     "traceback": [
      "\u001b[0;31m---------------------------------------------------------------------------\u001b[0m",
      "\u001b[0;31mNameError\u001b[0m                                 Traceback (most recent call last)",
      "Cell \u001b[0;32mIn[1], line 19\u001b[0m\n\u001b[1;32m      8\u001b[0m params \u001b[38;5;241m=\u001b[39m {\n\u001b[1;32m      9\u001b[0m     \u001b[38;5;124m\"\u001b[39m\u001b[38;5;124mNoOfUsers\u001b[39m\u001b[38;5;124m\"\u001b[39m: \u001b[38;5;241m30\u001b[39m,\n\u001b[1;32m     10\u001b[0m     \u001b[38;5;124m\"\u001b[39m\u001b[38;5;124mcloud_server_cost\u001b[39m\u001b[38;5;124m\"\u001b[39m: \u001b[38;5;241m1000\u001b[39m,  \u001b[38;5;66;03m# ($/per server/hour)\u001b[39;00m\n\u001b[0;32m   (...)\u001b[0m\n\u001b[1;32m     15\u001b[0m     \u001b[38;5;124m\"\u001b[39m\u001b[38;5;124mnetwork_name\u001b[39m\u001b[38;5;124m\"\u001b[39m: \u001b[38;5;124m'\u001b[39m\u001b[38;5;124mNetworks/newyork.xml\u001b[39m\u001b[38;5;124m'\u001b[39m\n\u001b[1;32m     16\u001b[0m }\n\u001b[1;32m     18\u001b[0m \u001b[38;5;66;03m# Initialize the network graph\u001b[39;00m\n\u001b[0;32m---> 19\u001b[0m network \u001b[38;5;241m=\u001b[39m \u001b[43mNetwork\u001b[49m(params[\u001b[38;5;124m\"\u001b[39m\u001b[38;5;124mnetwork_name\u001b[39m\u001b[38;5;124m\"\u001b[39m])\n\u001b[1;32m     20\u001b[0m \u001b[38;5;66;03m# Populate the network with nodes and links\u001b[39;00m\n\u001b[1;32m     21\u001b[0m network\u001b[38;5;241m.\u001b[39mpopulate(params[\u001b[38;5;124m\"\u001b[39m\u001b[38;5;124mmedium\u001b[39m\u001b[38;5;124m\"\u001b[39m])\n",
      "\u001b[0;31mNameError\u001b[0m: name 'Network' is not defined"
     ]
    }
   ],
   "source": [
    "# main.py\n",
    "# Import necessary modules and classes\n",
    "import networkx as nx\n",
    "from network_classes import *  # This imports Node, Link, User, Server, Application, CNF, and any other classes you've defined\n",
    "from network_functions import *  # This imports utility functions that operate on the classes, such as populate_network, draw_network_graph, etc.\n",
    "\n",
    "# Parameters and file paths\n",
    "params = {\n",
    "    \"NoOfUsers\": 30,\n",
    "    \"cloud_server_cost\": 1000,  # ($/per server/hour)\n",
    "    \"edge_server_cost\": 100,    # ($/per server/hour)\n",
    "    \"device_json_path\": 'Devices/EdgeDevices.json',\n",
    "    \"traffic_json_path\": \"Devices/Traffic.json\",\n",
    "    \"containers_json_path\": 'Devices/containers.json',\n",
    "    \"network_name\": 'Networks/newyork.xml'\n",
    "}\n",
    "\n",
    "# Initialize the network graph\n",
    "network = Network(params[\"network_name\"])\n",
    "# Populate the network with nodes and links\n",
    "network.populate(params[\"medium\"])\n",
    "# Visualize the network\n",
    "network.draw()\n",
    "\n",
    "# Generate users within the network\n",
    "users = UserNetwork(params[\"NoOfUsers\"])\n",
    "# Associate users with nearest nodes (APs) and visualize connections\n",
    "users.generate_and_draw(network)\n",
    "\n",
    "# Assign edge devices to network nodes based on JSON data\n",
    "edgeDevices = EdgeDeviceManager(params[\"device_json_path\"], params[\"cloud_server_cost\"], params[\"edge_server_cost\"])\n",
    "edgeDevices.associate_with_network(network)\n",
    "\n",
    "# Assign applications to users based on traffic patterns from JSON data\n",
    "trafficManager = TrafficManager(params[\"traffic_json_path\"])\n",
    "trafficManager.assign_to_users(users)\n",
    "\n",
    "# Containerize applications and assign them to the network\n",
    "containerManager = ContainerManager(params[\"containers_json_path\"])\n",
    "containerManager.deploy_on_network(network, users)\n",
    "\n",
    "# Simulate the placement and routing of microservices across the network\n",
    "placementSimulator = PlacementSimulator()\n",
    "placementSimulator.simulate(network, users)\n",
    "\n",
    "# Visualize the final server and link utilization, including any additional statistics of interest\n",
    "utilizationVisualizer = UtilizationVisualizer()\n",
    "utilizationVisualizer.visualize(network)\n",
    "\n"
   ]
  }
 ],
 "metadata": {
  "kernelspec": {
   "display_name": "Python 3",
   "language": "python",
   "name": "python3"
  },
  "language_info": {
   "codemirror_mode": {
    "name": "ipython",
    "version": 3
   },
   "file_extension": ".py",
   "mimetype": "text/x-python",
   "name": "python",
   "nbconvert_exporter": "python",
   "pygments_lexer": "ipython3",
   "version": "3.11.2"
  }
 },
 "nbformat": 4,
 "nbformat_minor": 2
}
