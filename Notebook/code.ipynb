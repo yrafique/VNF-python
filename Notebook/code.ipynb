{
 "cells": [
  {
   "cell_type": "code",
   "execution_count": 39,
   "metadata": {},
   "outputs": [
    {
     "ename": "NodeNotFound",
     "evalue": "Node User1 not found in graph",
     "output_type": "error",
     "traceback": [
      "\u001b[0;31m---------------------------------------------------------------------------\u001b[0m",
      "\u001b[0;31mNodeNotFound\u001b[0m                              Traceback (most recent call last)",
      "Cell \u001b[0;32mIn[39], line 46\u001b[0m\n\u001b[1;32m     43\u001b[0m     \u001b[39mreturn\u001b[39;00m G, iot_users\n\u001b[1;32m     45\u001b[0m \u001b[39m# Example usage\u001b[39;00m\n\u001b[0;32m---> 46\u001b[0m network, iot_users \u001b[39m=\u001b[39m load_network(\u001b[39m\"\u001b[39;49m\u001b[39mservers.txt\u001b[39;49m\u001b[39m\"\u001b[39;49m, \u001b[39m\"\u001b[39;49m\u001b[39mconnections.txt\u001b[39;49m\u001b[39m\"\u001b[39;49m, \u001b[39m\"\u001b[39;49m\u001b[39miot_users.txt\u001b[39;49m\u001b[39m\"\u001b[39;49m)\n",
      "Cell \u001b[0;32mIn[39], line 42\u001b[0m, in \u001b[0;36mload_network\u001b[0;34m(servers_file, connections_file, iot_users_file)\u001b[0m\n\u001b[1;32m     40\u001b[0m load_edge_servers(servers_file, G)\n\u001b[1;32m     41\u001b[0m load_connections(connections_file, G)\n\u001b[0;32m---> 42\u001b[0m iot_users \u001b[39m=\u001b[39m load_iot_users(iot_users_file, G)\n\u001b[1;32m     43\u001b[0m \u001b[39mreturn\u001b[39;00m G, iot_users\n",
      "Cell \u001b[0;32mIn[39], line 21\u001b[0m, in \u001b[0;36mload_iot_users\u001b[0;34m(file, G)\u001b[0m\n\u001b[1;32m     19\u001b[0m user, app \u001b[39m=\u001b[39m line\u001b[39m.\u001b[39mstrip()\u001b[39m.\u001b[39msplit(\u001b[39m'\u001b[39m\u001b[39m,\u001b[39m\u001b[39m'\u001b[39m)\n\u001b[1;32m     20\u001b[0m iot_users\u001b[39m.\u001b[39mappend((user, app))\n\u001b[0;32m---> 21\u001b[0m nearest_server \u001b[39m=\u001b[39m find_nearest_server(user, G)\n\u001b[1;32m     22\u001b[0m G\u001b[39m.\u001b[39madd_node(user)\n\u001b[1;32m     23\u001b[0m G\u001b[39m.\u001b[39madd_edge(user, nearest_server, latency\u001b[39m=\u001b[39m\u001b[39m5\u001b[39m, bandwidth\u001b[39m=\u001b[39m\u001b[39m1000\u001b[39m) \u001b[39m# Adjust these parameters as needed\u001b[39;00m\n",
      "Cell \u001b[0;32mIn[39], line 32\u001b[0m, in \u001b[0;36mfind_nearest_server\u001b[0;34m(user, G)\u001b[0m\n\u001b[1;32m     30\u001b[0m \u001b[39mfor\u001b[39;00m server \u001b[39min\u001b[39;00m G\u001b[39m.\u001b[39mnodes():\n\u001b[1;32m     31\u001b[0m     \u001b[39mif\u001b[39;00m \u001b[39m'\u001b[39m\u001b[39mram\u001b[39m\u001b[39m'\u001b[39m \u001b[39min\u001b[39;00m G\u001b[39m.\u001b[39mnodes[server]: \u001b[39m# Check if it's a server node\u001b[39;00m\n\u001b[0;32m---> 32\u001b[0m         latency \u001b[39m=\u001b[39m nx\u001b[39m.\u001b[39;49mshortest_path_length(G, source\u001b[39m=\u001b[39;49muser, target\u001b[39m=\u001b[39;49mserver, weight\u001b[39m=\u001b[39;49m\u001b[39m'\u001b[39;49m\u001b[39mlatency\u001b[39;49m\u001b[39m'\u001b[39;49m)\n\u001b[1;32m     33\u001b[0m         \u001b[39mif\u001b[39;00m latency \u001b[39m<\u001b[39m min_latency:\n\u001b[1;32m     34\u001b[0m             min_latency \u001b[39m=\u001b[39m latency\n",
      "File \u001b[0;32m/Library/Frameworks/Python.framework/Versions/3.11/lib/python3.11/site-packages/networkx/classes/backends.py:145\u001b[0m, in \u001b[0;36m_dispatch.<locals>.wrapper\u001b[0;34m(*args, **kwds)\u001b[0m\n\u001b[1;32m    141\u001b[0m         \u001b[39melse\u001b[39;00m:\n\u001b[1;32m    142\u001b[0m             \u001b[39mraise\u001b[39;00m NetworkXNotImplemented(\n\u001b[1;32m    143\u001b[0m                 \u001b[39mf\u001b[39m\u001b[39m\"\u001b[39m\u001b[39m'\u001b[39m\u001b[39m{\u001b[39;00mname\u001b[39m}\u001b[39;00m\u001b[39m'\u001b[39m\u001b[39m not implemented by \u001b[39m\u001b[39m{\u001b[39;00mplugin_name\u001b[39m}\u001b[39;00m\u001b[39m\"\u001b[39m\n\u001b[1;32m    144\u001b[0m             )\n\u001b[0;32m--> 145\u001b[0m \u001b[39mreturn\u001b[39;00m func(\u001b[39m*\u001b[39;49margs, \u001b[39m*\u001b[39;49m\u001b[39m*\u001b[39;49mkwds)\n",
      "File \u001b[0;32m/Library/Frameworks/Python.framework/Versions/3.11/lib/python3.11/site-packages/networkx/algorithms/shortest_paths/generic.py:313\u001b[0m, in \u001b[0;36mshortest_path_length\u001b[0;34m(G, source, target, weight, method)\u001b[0m\n\u001b[1;32m    311\u001b[0m     paths \u001b[39m=\u001b[39m \u001b[39mlen\u001b[39m(p) \u001b[39m-\u001b[39m \u001b[39m1\u001b[39m\n\u001b[1;32m    312\u001b[0m \u001b[39melif\u001b[39;00m method \u001b[39m==\u001b[39m \u001b[39m\"\u001b[39m\u001b[39mdijkstra\u001b[39m\u001b[39m\"\u001b[39m:\n\u001b[0;32m--> 313\u001b[0m     paths \u001b[39m=\u001b[39m nx\u001b[39m.\u001b[39;49mdijkstra_path_length(G, source, target, weight)\n\u001b[1;32m    314\u001b[0m \u001b[39melse\u001b[39;00m:  \u001b[39m# method == 'bellman-ford':\u001b[39;00m\n\u001b[1;32m    315\u001b[0m     paths \u001b[39m=\u001b[39m nx\u001b[39m.\u001b[39mbellman_ford_path_length(G, source, target, weight)\n",
      "File \u001b[0;32m/Library/Frameworks/Python.framework/Versions/3.11/lib/python3.11/site-packages/networkx/algorithms/shortest_paths/weighted.py:230\u001b[0m, in \u001b[0;36mdijkstra_path_length\u001b[0;34m(G, source, target, weight)\u001b[0m\n\u001b[1;32m    163\u001b[0m \u001b[39m\u001b[39m\u001b[39m\"\"\"Returns the shortest weighted path length in G from source to target.\u001b[39;00m\n\u001b[1;32m    164\u001b[0m \n\u001b[1;32m    165\u001b[0m \u001b[39mUses Dijkstra's Method to compute the shortest weighted path length\u001b[39;00m\n\u001b[0;32m   (...)\u001b[0m\n\u001b[1;32m    227\u001b[0m \n\u001b[1;32m    228\u001b[0m \u001b[39m\"\"\"\u001b[39;00m\n\u001b[1;32m    229\u001b[0m \u001b[39mif\u001b[39;00m source \u001b[39mnot\u001b[39;00m \u001b[39min\u001b[39;00m G:\n\u001b[0;32m--> 230\u001b[0m     \u001b[39mraise\u001b[39;00m nx\u001b[39m.\u001b[39mNodeNotFound(\u001b[39mf\u001b[39m\u001b[39m\"\u001b[39m\u001b[39mNode \u001b[39m\u001b[39m{\u001b[39;00msource\u001b[39m}\u001b[39;00m\u001b[39m not found in graph\u001b[39m\u001b[39m\"\u001b[39m)\n\u001b[1;32m    231\u001b[0m \u001b[39mif\u001b[39;00m source \u001b[39m==\u001b[39m target:\n\u001b[1;32m    232\u001b[0m     \u001b[39mreturn\u001b[39;00m \u001b[39m0\u001b[39m\n",
      "\u001b[0;31mNodeNotFound\u001b[0m: Node User1 not found in graph"
     ]
    }
   ],
   "source": [
    "import networkx as nx\n",
    "\n",
    "def load_edge_servers(file, G):\n",
    "    with open(file, 'r') as f:\n",
    "        for line in f:\n",
    "            server, ram, cpu, storage = line.strip().split(',')\n",
    "            G.add_node(server, ram=int(ram), cpu=int(cpu), storage=int(storage))\n",
    "\n",
    "def load_connections(file, G):\n",
    "    with open(file, 'r') as f:\n",
    "        for line in f:\n",
    "            server1, server2, latency, cost, bandwidth = line.strip().split(',')\n",
    "            G.add_edge(server1, server2, latency=int(latency), cost=int(cost), bandwidth=float(bandwidth))\n",
    "\n",
    "def load_iot_users(file, G):\n",
    "    iot_users = []\n",
    "    with open(file) as f:\n",
    "        for line in f:\n",
    "            user, app = line.strip().split(',')\n",
    "            iot_users.append((user, app))\n",
    "            nearest_server = find_nearest_server(user, G)\n",
    "            G.add_node(user)\n",
    "            G.add_edge(user, nearest_server, latency=5, bandwidth=1000) # Adjust these parameters as needed\n",
    "    return iot_users\n",
    "\n",
    "\n",
    "def find_nearest_server(user, G):\n",
    "    nearest_server = None\n",
    "    min_latency = float('inf')\n",
    "    for server in G.nodes():\n",
    "        if 'ram' in G.nodes[server]: # Check if it's a server node\n",
    "            latency = nx.shortest_path_length(G, source=user, target=server, weight='latency')\n",
    "            if latency < min_latency:\n",
    "                min_latency = latency\n",
    "                nearest_server = server\n",
    "    return nearest_server\n",
    "\n",
    "def load_network(servers_file, connections_file, iot_users_file):\n",
    "    G = nx.Graph()\n",
    "    load_edge_servers(servers_file, G)\n",
    "    load_connections(connections_file, G)\n",
    "    iot_users = load_iot_users(iot_users_file, G)\n",
    "    return G, iot_users\n",
    "\n",
    "# Example usage\n",
    "network, iot_users = load_network(\"servers.txt\", \"connections.txt\", \"iot_users.txt\")\n"
   ]
  },
  {
   "cell_type": "code",
   "execution_count": null,
   "metadata": {},
   "outputs": [
    {
     "name": "stdout",
     "output_type": "stream",
     "text": [
      "Edge Servers:\n",
      "Server: Server1, RAM: 16GB, CPU: 8 cores, Storage: 500GB\n",
      "Server: Server2, RAM: 32GB, CPU: 16 cores, Storage: 1000GB\n",
      "Server: Server3, RAM: 64GB, CPU: 32 cores, Storage: 2000GB\n",
      "Server: Server4, RAM: 16GB, CPU: 8 cores, Storage: 1500GB\n",
      "Server: Server5, RAM: 32GB, CPU: 16 cores, Storage: 800GB\n",
      "Server: Server6, RAM: 64GB, CPU: 32 cores, Storage: 2500GB\n",
      "\n",
      "Connections:\n",
      "From: Server1, To: Server2, Latency: 10ms, Cost: 5, Bandwidth: 1.0GBps\n",
      "From: Server2, To: Server3, Latency: 15ms, Cost: 10, Bandwidth: 10.0GBps\n",
      "From: Server3, To: Server4, Latency: 5ms, Cost: 3, Bandwidth: 2.0GBps\n",
      "From: Server4, To: Server5, Latency: 12ms, Cost: 7, Bandwidth: 5.0GBps\n",
      "From: Server5, To: Server6, Latency: 8ms, Cost: 4, Bandwidth: 1.0GBps\n",
      "\n",
      "IoT Users:\n",
      "User: User1, Requested App: App1\n",
      "User: User2, Requested App: App2\n",
      "User: User3, Requested App: App3\n",
      "User: User4, Requested App: App1\n",
      "User: User5, Requested App: App2\n",
      "\n",
      "Apps:\n",
      "App: App1, Bandwidth: 1.0GBps, Latency: 1.0ms\n",
      "App: App2, Bandwidth: 0.5GBps, Latency: 5.0ms\n",
      "App: App3, Bandwidth: 0.2GBps, Latency: 3.0ms\n"
     ]
    }
   ],
   "source": [
    "# Print edge servers\n",
    "print(\"Edge Servers:\")\n",
    "for node, data in network.nodes(data=True):\n",
    "    print(f\"Server: {node}, RAM: {data['ram']}GB, CPU: {data['cpu']} cores, Storage: {data['storage']}GB\")\n",
    "\n",
    "# Print connections\n",
    "print(\"\\nConnections:\")\n",
    "for server1, server2, data in network.edges(data=True):\n",
    "    print(f\"From: {server1}, To: {server2}, Latency: {data['latency']}ms, Cost: {data['cost']}, Bandwidth: {data['bandwidth']}GBps\")\n",
    "\n",
    "# Print IoT users\n",
    "print(\"\\nIoT Users:\")\n",
    "for user, app in iot_users:\n",
    "    print(f\"User: {user}, Requested App: {app}\")\n",
    "\n",
    "# Print apps\n",
    "print(\"\\nApps:\")\n",
    "for app, values in apps.items():\n",
    "    bw, latency = values\n",
    "    print(f\"App: {app}, Bandwidth: {bw}GBps, Latency: {latency}ms\")"
   ]
  },
  {
   "cell_type": "code",
   "execution_count": null,
   "metadata": {},
   "outputs": [],
   "source": [
    "## Define Parameters\n",
    "\n",
    "# Example parameters - these can be adjusted as needed\n",
    "VNF_CHAIN_LENGTH = 3  # Number of VNFs in a chain\n",
    "MAX_LATENCY = 5      # Maximum allowed latency in ms\n",
    "MAX_COST = 10        # Maximum allowed cost\n"
   ]
  },
  {
   "cell_type": "code",
   "execution_count": null,
   "metadata": {},
   "outputs": [],
   "source": [
    "# Placement\n",
    "\n",
    "def place_vnfs(user, app, network, iot_users, apps):\n",
    "    app_bw, app_latency = apps[app]\n",
    "    nearest_servers = sorted(network.nodes(), key=lambda s: network[user][s]['latency']) # Sort by proximity\n",
    "    \n",
    "    vnf_chain = []\n",
    "    for server in nearest_servers:\n",
    "        server_resources = network.nodes[server]\n",
    "        # Check if server has enough resources\n",
    "        if server_resources['ram'] > 0 and server_resources['cpu'] > 0 and server_resources['storage'] > 0:\n",
    "            # Check if link meets bandwidth and latency requirements\n",
    "            link_data = network[user][server]\n",
    "            if link_data['bandwidth'] >= app_bw and link_data['latency'] <= app_latency:\n",
    "                # Place VNF and update server resources\n",
    "                vnf_chain.append(server)\n",
    "                server_resources['ram'] -= 1  # Adjust based on VNF requirements\n",
    "                server_resources['cpu'] -= 1\n",
    "                server_resources['storage'] -= 1\n",
    "                # Check if VNF chain is complete\n",
    "                if len(vnf_chain) == VNF_CHAIN_LENGTH:\n",
    "                    break\n",
    "    \n",
    "    return vnf_chain\n"
   ]
  },
  {
   "cell_type": "code",
   "execution_count": null,
   "metadata": {},
   "outputs": [
    {
     "ename": "KeyError",
     "evalue": "'User1'",
     "output_type": "error",
     "traceback": [
      "\u001b[0;31m---------------------------------------------------------------------------\u001b[0m",
      "\u001b[0;31mKeyError\u001b[0m                                  Traceback (most recent call last)",
      "Cell \u001b[0;32mIn[28], line 3\u001b[0m\n\u001b[1;32m      1\u001b[0m \u001b[39m# Iterate through IoT users and place VNFs\u001b[39;00m\n\u001b[1;32m      2\u001b[0m \u001b[39mfor\u001b[39;00m user, app \u001b[39min\u001b[39;00m iot_users:\n\u001b[0;32m----> 3\u001b[0m     vnf_chain \u001b[39m=\u001b[39m place_vnfs(user, app, network, iot_users, apps)\n\u001b[1;32m      4\u001b[0m     \u001b[39mprint\u001b[39m(\u001b[39mf\u001b[39m\u001b[39m\"\u001b[39m\u001b[39mUser: \u001b[39m\u001b[39m{\u001b[39;00muser\u001b[39m}\u001b[39;00m\u001b[39m, App: \u001b[39m\u001b[39m{\u001b[39;00mapp\u001b[39m}\u001b[39;00m\u001b[39m, VNF Chain: \u001b[39m\u001b[39m{\u001b[39;00mvnf_chain\u001b[39m}\u001b[39;00m\u001b[39m\"\u001b[39m)\n",
      "Cell \u001b[0;32mIn[27], line 5\u001b[0m, in \u001b[0;36mplace_vnfs\u001b[0;34m(user, app, network, iot_users, apps)\u001b[0m\n\u001b[1;32m      3\u001b[0m \u001b[39mdef\u001b[39;00m \u001b[39mplace_vnfs\u001b[39m(user, app, network, iot_users, apps):\n\u001b[1;32m      4\u001b[0m     app_bw, app_latency \u001b[39m=\u001b[39m apps[app]\n\u001b[0;32m----> 5\u001b[0m     nearest_servers \u001b[39m=\u001b[39m \u001b[39msorted\u001b[39;49m(network\u001b[39m.\u001b[39;49mnodes(), key\u001b[39m=\u001b[39;49m\u001b[39mlambda\u001b[39;49;00m s: network[user][s][\u001b[39m'\u001b[39;49m\u001b[39mlatency\u001b[39;49m\u001b[39m'\u001b[39;49m]) \u001b[39m# Sort by proximity\u001b[39;00m\n\u001b[1;32m      7\u001b[0m     vnf_chain \u001b[39m=\u001b[39m []\n\u001b[1;32m      8\u001b[0m     \u001b[39mfor\u001b[39;00m server \u001b[39min\u001b[39;00m nearest_servers:\n",
      "Cell \u001b[0;32mIn[27], line 5\u001b[0m, in \u001b[0;36mplace_vnfs.<locals>.<lambda>\u001b[0;34m(s)\u001b[0m\n\u001b[1;32m      3\u001b[0m \u001b[39mdef\u001b[39;00m \u001b[39mplace_vnfs\u001b[39m(user, app, network, iot_users, apps):\n\u001b[1;32m      4\u001b[0m     app_bw, app_latency \u001b[39m=\u001b[39m apps[app]\n\u001b[0;32m----> 5\u001b[0m     nearest_servers \u001b[39m=\u001b[39m \u001b[39msorted\u001b[39m(network\u001b[39m.\u001b[39mnodes(), key\u001b[39m=\u001b[39m\u001b[39mlambda\u001b[39;00m s: network[user][s][\u001b[39m'\u001b[39m\u001b[39mlatency\u001b[39m\u001b[39m'\u001b[39m]) \u001b[39m# Sort by proximity\u001b[39;00m\n\u001b[1;32m      7\u001b[0m     vnf_chain \u001b[39m=\u001b[39m []\n\u001b[1;32m      8\u001b[0m     \u001b[39mfor\u001b[39;00m server \u001b[39min\u001b[39;00m nearest_servers:\n",
      "File \u001b[0;32m/Library/Frameworks/Python.framework/Versions/3.11/lib/python3.11/site-packages/networkx/classes/graph.py:513\u001b[0m, in \u001b[0;36mGraph.__getitem__\u001b[0;34m(self, n)\u001b[0m\n\u001b[1;32m    489\u001b[0m \u001b[39mdef\u001b[39;00m \u001b[39m__getitem__\u001b[39m(\u001b[39mself\u001b[39m, n):\n\u001b[1;32m    490\u001b[0m \u001b[39m    \u001b[39m\u001b[39m\"\"\"Returns a dict of neighbors of node n.  Use: 'G[n]'.\u001b[39;00m\n\u001b[1;32m    491\u001b[0m \n\u001b[1;32m    492\u001b[0m \u001b[39m    Parameters\u001b[39;00m\n\u001b[0;32m   (...)\u001b[0m\n\u001b[1;32m    511\u001b[0m \u001b[39m    AtlasView({1: {}})\u001b[39;00m\n\u001b[1;32m    512\u001b[0m \u001b[39m    \"\"\"\u001b[39;00m\n\u001b[0;32m--> 513\u001b[0m     \u001b[39mreturn\u001b[39;00m \u001b[39mself\u001b[39;49m\u001b[39m.\u001b[39;49madj[n]\n",
      "File \u001b[0;32m/Library/Frameworks/Python.framework/Versions/3.11/lib/python3.11/site-packages/networkx/classes/coreviews.py:81\u001b[0m, in \u001b[0;36mAdjacencyView.__getitem__\u001b[0;34m(self, name)\u001b[0m\n\u001b[1;32m     80\u001b[0m \u001b[39mdef\u001b[39;00m \u001b[39m__getitem__\u001b[39m(\u001b[39mself\u001b[39m, name):\n\u001b[0;32m---> 81\u001b[0m     \u001b[39mreturn\u001b[39;00m AtlasView(\u001b[39mself\u001b[39;49m\u001b[39m.\u001b[39;49m_atlas[name])\n",
      "\u001b[0;31mKeyError\u001b[0m: 'User1'"
     ]
    }
   ],
   "source": [
    "# Iterate through IoT users and place VNFs\n",
    "for user, app in iot_users:\n",
    "    vnf_chain = place_vnfs(user, app, network, iot_users, apps)\n",
    "    print(f\"User: {user}, App: {app}, VNF Chain: {vnf_chain}\")\n"
   ]
  },
  {
   "cell_type": "code",
   "execution_count": null,
   "metadata": {},
   "outputs": [
    {
     "name": "stdout",
     "output_type": "stream",
     "text": [
      "[('User1', 'App1'), ('User2', 'App2'), ('User3', 'App3'), ('User4', 'App1'), ('User5', 'App2')]\n",
      "['Server1', 'Server2', 'Server3', 'Server4', 'Server5', 'Server6']\n"
     ]
    }
   ],
   "source": [
    "print(iot_users)\n",
    "print(network.nodes())"
   ]
  },
  {
   "cell_type": "code",
   "execution_count": null,
   "metadata": {},
   "outputs": [],
   "source": []
  },
  {
   "cell_type": "code",
   "execution_count": null,
   "metadata": {},
   "outputs": [
    {
     "name": "stdout",
     "output_type": "stream",
     "text": [
      "('Server1', 'Server2', {'latency': 10, 'cost': 5, 'bandwidth': 1.0})\n",
      "('Server2', 'Server3', {'latency': 15, 'cost': 10, 'bandwidth': 10.0})\n",
      "('Server3', 'Server4', {'latency': 5, 'cost': 3, 'bandwidth': 2.0})\n",
      "('Server4', 'Server5', {'latency': 12, 'cost': 7, 'bandwidth': 5.0})\n",
      "('Server5', 'Server6', {'latency': 8, 'cost': 4, 'bandwidth': 1.0})\n"
     ]
    }
   ],
   "source": [
    "for edge in network.edges(data=True):\n",
    "    print(edge)\n"
   ]
  }
 ],
 "metadata": {
  "kernelspec": {
   "display_name": "Python 3",
   "language": "python",
   "name": "python3"
  },
  "language_info": {
   "codemirror_mode": {
    "name": "ipython",
    "version": 3
   },
   "file_extension": ".py",
   "mimetype": "text/x-python",
   "name": "python",
   "nbconvert_exporter": "python",
   "pygments_lexer": "ipython3",
   "version": "3.11.2"
  },
  "orig_nbformat": 4
 },
 "nbformat": 4,
 "nbformat_minor": 2
}
