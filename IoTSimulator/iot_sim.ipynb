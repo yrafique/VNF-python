{
 "cells": [
  {
   "cell_type": "code",
   "execution_count": 11,
   "metadata": {},
   "outputs": [
    {
     "data": {
      "text/plain": [
       "([], [])"
      ]
     },
     "execution_count": 11,
     "metadata": {},
     "output_type": "execute_result"
    }
   ],
   "source": [
    "from xml.etree import ElementTree as ET\n",
    "import networkx as nx\n",
    "\n",
    "# Function to parse the topology XML file and generate NetworkX graph\n",
    "def parse_topology_file(file_path):\n",
    "    tree = ET.parse(file_path)\n",
    "    root = tree.getroot()\n",
    "    \n",
    "    ns = {'sndlib': 'http://sndlib.zib.de/network'}\n",
    "    \n",
    "    G = nx.Graph()\n",
    "\n",
    "    for node in root.findall(\".//sndlib:node\", namespaces=ns):\n",
    "        node_id = node.get(\"id\")\n",
    "        x_cor_elem = node.find(\"sndlib:x\", namespaces=ns)\n",
    "        y_cor_elem = node.find(\"sndlib:y\", namespaces=ns)\n",
    "        \n",
    "        if x_cor_elem is None:\n",
    "            print(f\"No x_cor found for node {node_id}\")\n",
    "            continue\n",
    "\n",
    "        if y_cor_elem is None:\n",
    "            print(f\"No y_cor found for node {node_id}\")\n",
    "            continue\n",
    "        \n",
    "        x_cor = float(x_cor_elem.text)\n",
    "        y_cor = float(y_cor_elem.text)\n",
    "        G.add_node(node_id, pos=(x_cor, y_cor))\n",
    "\n",
    "    for link in root.findall(\".//sndlib:link\", namespaces=ns):\n",
    "        source_elem = link.find(\"sndlib:source\", namespaces=ns)\n",
    "        dest_elem = link.find(\"sndlib:destination\", namespaces=ns)\n",
    "        cap_elem = link.find(\"sndlib:capacity\", namespaces=ns)\n",
    "        cost_elem = link.find(\"sndlib:cost\", namespaces=ns)\n",
    "        \n",
    "        if source_elem is None or dest_elem is None or cap_elem is None or cost_elem is None:\n",
    "            print(f\"Missing attributes for link between {source_elem.text} and {dest_elem.text}\")\n",
    "            continue\n",
    "\n",
    "        source = source_elem.text\n",
    "        destination = dest_elem.text\n",
    "        capacity = float(cap_elem.text)\n",
    "        cost = float(cost_elem.text)\n",
    "        G.add_edge(source, destination, capacity=capacity, cost=cost)\n",
    "        \n",
    "    return G\n",
    "\n",
    "\n",
    "# Checking if the graph is generated properly\n",
    "nodes_in_graph = list(G.nodes(data=True))\n",
    "edges_in_graph = list(G.edges(data=True))\n",
    "nodes_in_graph, edges_in_graph\n",
    "\n",
    "\n",
    "\n"
   ]
  }
 ],
 "metadata": {
  "kernelspec": {
   "display_name": "Python 3",
   "language": "python",
   "name": "python3"
  },
  "language_info": {
   "codemirror_mode": {
    "name": "ipython",
    "version": 3
   },
   "file_extension": ".py",
   "mimetype": "text/x-python",
   "name": "python",
   "nbconvert_exporter": "python",
   "pygments_lexer": "ipython3",
   "version": "3.11.2"
  },
  "orig_nbformat": 4
 },
 "nbformat": 4,
 "nbformat_minor": 2
}
